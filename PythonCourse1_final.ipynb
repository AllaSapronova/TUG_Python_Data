{
 "cells": [
  {
   "cell_type": "code",
   "execution_count": 25,
   "metadata": {},
   "outputs": [],
   "source": [
    "import sys\n",
    "import time\n",
    "import dis"
   ]
  },
  {
   "cell_type": "markdown",
   "metadata": {},
   "source": []
  },
  {
   "cell_type": "code",
   "execution_count": null,
   "metadata": {},
   "outputs": [],
   "source": []
  },
  {
   "cell_type": "markdown",
   "metadata": {},
   "source": [
    "# Python bytecode"
   ]
  },
  {
   "cell_type": "code",
   "execution_count": 13,
   "metadata": {},
   "outputs": [
    {
     "name": "stdout",
     "output_type": "stream",
     "text": [
      "Hello, World!\n",
      "101           0 LOAD_GLOBAL              0 (compile)\n",
      "              2 LOAD_FAST                1 (source)\n",
      "              4 LOAD_FAST                2 (filename)\n",
      "              6 LOAD_FAST                3 (symbol)\n",
      "              8 LOAD_FAST                0 (self)\n",
      "             10 LOAD_ATTR                1 (flags)\n",
      "             12 LOAD_GLOBAL              2 (PyCF_ONLY_AST)\n",
      "             14 BINARY_OR\n",
      "             16 LOAD_CONST               1 (1)\n",
      "    -->      18 CALL_FUNCTION            5\n",
      "             20 RETURN_VALUE\n"
     ]
    }
   ],
   "source": [
    "dis.dis(print(\"Hello, World!\"))"
   ]
  },
  {
   "cell_type": "markdown",
   "metadata": {},
   "source": [
    "### LOAD_GLOBAL 0: tells Python to look up the global object referenced by the name at index 0 of co_names (which is the print function) and push it onto the evaluation stack\n",
    "### LOAD_CONST 16: takes the literal value at index 1 of co_consts and pushes it (the value at index 0 is the literal None, which is present in co_consts because Python function calls have an implicit return value of None if no explicit return statement is reached)\n",
    "### CALL_FUNCTION 18: tells Python to call a function; it will need to pop one positional argument off the stack, then the new top-of-stack will be the function to call."
   ]
  },
  {
   "cell_type": "code",
   "execution_count": 51,
   "metadata": {},
   "outputs": [
    {
     "name": "stdout",
     "output_type": "stream",
     "text": [
      "11\n"
     ]
    }
   ],
   "source": [
    "a=7\n",
    "b=4\n",
    "print(a+b)"
   ]
  },
  {
   "cell_type": "code",
   "execution_count": 32,
   "metadata": {},
   "outputs": [
    {
     "name": "stdout",
     "output_type": "stream",
     "text": [
      "11\n",
      " 52           0 LOAD_FAST                0 (x)\n",
      "              2 LOAD_CONST               1 (None)\n",
      "              4 COMPARE_OP               8 (is)\n",
      "              6 POP_JUMP_IF_FALSE       22\n",
      "\n",
      " 53           8 LOAD_GLOBAL              0 (distb)\n",
      "             10 LOAD_FAST                1 (file)\n",
      "             12 LOAD_CONST               2 (('file',))\n",
      "             14 CALL_FUNCTION_KW         1\n",
      "             16 POP_TOP\n",
      "\n",
      " 54          18 LOAD_CONST               1 (None)\n",
      "             20 RETURN_VALUE\n",
      "\n",
      " 56     >>   22 LOAD_GLOBAL              1 (hasattr)\n",
      "             24 LOAD_FAST                0 (x)\n",
      "             26 LOAD_CONST               3 ('__func__')\n",
      "             28 CALL_FUNCTION            2\n",
      "             30 POP_JUMP_IF_FALSE       38\n",
      "\n",
      " 57          32 LOAD_FAST                0 (x)\n",
      "             34 LOAD_ATTR                2 (__func__)\n",
      "             36 STORE_FAST               0 (x)\n",
      "\n",
      " 59     >>   38 LOAD_GLOBAL              1 (hasattr)\n",
      "             40 LOAD_FAST                0 (x)\n",
      "             42 LOAD_CONST               4 ('__code__')\n",
      "             44 CALL_FUNCTION            2\n",
      "             46 POP_JUMP_IF_FALSE       56\n",
      "\n",
      " 60          48 LOAD_FAST                0 (x)\n",
      "             50 LOAD_ATTR                3 (__code__)\n",
      "             52 STORE_FAST               0 (x)\n",
      "             54 JUMP_FORWARD            52 (to 108)\n",
      "\n",
      " 61     >>   56 LOAD_GLOBAL              1 (hasattr)\n",
      "             58 LOAD_FAST                0 (x)\n",
      "             60 LOAD_CONST               5 ('gi_code')\n",
      "             62 CALL_FUNCTION            2\n",
      "             64 POP_JUMP_IF_FALSE       74\n",
      "\n",
      " 62          66 LOAD_FAST                0 (x)\n",
      "             68 LOAD_ATTR                4 (gi_code)\n",
      "             70 STORE_FAST               0 (x)\n",
      "             72 JUMP_FORWARD            34 (to 108)\n",
      "\n",
      " 63     >>   74 LOAD_GLOBAL              1 (hasattr)\n",
      "             76 LOAD_FAST                0 (x)\n",
      "             78 LOAD_CONST               6 ('ag_code')\n",
      "             80 CALL_FUNCTION            2\n",
      "             82 POP_JUMP_IF_FALSE       92\n",
      "\n",
      " 64          84 LOAD_FAST                0 (x)\n",
      "             86 LOAD_ATTR                5 (ag_code)\n",
      "             88 STORE_FAST               0 (x)\n",
      "             90 JUMP_FORWARD            16 (to 108)\n",
      "\n",
      " 65     >>   92 LOAD_GLOBAL              1 (hasattr)\n",
      "             94 LOAD_FAST                0 (x)\n",
      "             96 LOAD_CONST               7 ('cr_code')\n",
      "             98 CALL_FUNCTION            2\n",
      "            100 POP_JUMP_IF_FALSE      108\n",
      "\n",
      " 66         102 LOAD_FAST                0 (x)\n",
      "            104 LOAD_ATTR                6 (cr_code)\n",
      "            106 STORE_FAST               0 (x)\n",
      "\n",
      " 68     >>  108 LOAD_GLOBAL              1 (hasattr)\n",
      "            110 LOAD_FAST                0 (x)\n",
      "            112 LOAD_CONST               8 ('__dict__')\n",
      "            114 CALL_FUNCTION            2\n",
      "            116 POP_JUMP_IF_FALSE      252\n",
      "\n",
      " 69         118 LOAD_GLOBAL              7 (sorted)\n",
      "            120 LOAD_FAST                0 (x)\n",
      "            122 LOAD_ATTR                8 (__dict__)\n",
      "            124 LOAD_METHOD              9 (items)\n",
      "            126 CALL_METHOD              0\n",
      "            128 CALL_FUNCTION            1\n",
      "            130 STORE_FAST               3 (items)\n",
      "\n",
      " 70         132 LOAD_FAST                3 (items)\n",
      "            134 GET_ITER\n",
      "        >>  136 FOR_ITER               112 (to 250)\n",
      "            138 UNPACK_SEQUENCE          2\n",
      "            140 STORE_FAST               4 (name)\n",
      "            142 STORE_FAST               5 (x1)\n",
      "\n",
      " 71         144 LOAD_GLOBAL             10 (isinstance)\n",
      "            146 LOAD_FAST                5 (x1)\n",
      "            148 LOAD_GLOBAL             11 (_have_code)\n",
      "            150 CALL_FUNCTION            2\n",
      "            152 POP_JUMP_IF_FALSE      136\n",
      "\n",
      " 72         154 LOAD_GLOBAL             12 (print)\n",
      "            156 LOAD_CONST               9 ('Disassembly of %s:')\n",
      "            158 LOAD_FAST                4 (name)\n",
      "            160 BINARY_MODULO\n",
      "            162 LOAD_FAST                1 (file)\n",
      "            164 LOAD_CONST               2 (('file',))\n",
      "            166 CALL_FUNCTION_KW         2\n",
      "            168 POP_TOP\n",
      "\n",
      " 73         170 SETUP_FINALLY           18 (to 190)\n",
      "\n",
      " 74         172 LOAD_GLOBAL             13 (dis)\n",
      "            174 LOAD_FAST                5 (x1)\n",
      "            176 LOAD_FAST                1 (file)\n",
      "            178 LOAD_FAST                2 (depth)\n",
      "            180 LOAD_CONST              10 (('file', 'depth'))\n",
      "            182 CALL_FUNCTION_KW         3\n",
      "            184 POP_TOP\n",
      "            186 POP_BLOCK\n",
      "            188 JUMP_FORWARD            48 (to 238)\n",
      "\n",
      " 75     >>  190 DUP_TOP\n",
      "            192 LOAD_GLOBAL             14 (TypeError)\n",
      "            194 COMPARE_OP              10 (exception match)\n",
      "            196 POP_JUMP_IF_FALSE      236\n",
      "            198 POP_TOP\n",
      "            200 STORE_FAST               6 (msg)\n",
      "            202 POP_TOP\n",
      "            204 SETUP_FINALLY           18 (to 224)\n",
      "\n",
      " 76         206 LOAD_GLOBAL             12 (print)\n",
      "            208 LOAD_CONST              11 ('Sorry:')\n",
      "            210 LOAD_FAST                6 (msg)\n",
      "            212 LOAD_FAST                1 (file)\n",
      "            214 LOAD_CONST               2 (('file',))\n",
      "            216 CALL_FUNCTION_KW         3\n",
      "            218 POP_TOP\n",
      "            220 POP_BLOCK\n",
      "            222 BEGIN_FINALLY\n",
      "        >>  224 LOAD_CONST               1 (None)\n",
      "            226 STORE_FAST               6 (msg)\n",
      "            228 DELETE_FAST              6 (msg)\n",
      "            230 END_FINALLY\n",
      "            232 POP_EXCEPT\n",
      "            234 JUMP_FORWARD             2 (to 238)\n",
      "        >>  236 END_FINALLY\n",
      "\n",
      " 77     >>  238 LOAD_GLOBAL             12 (print)\n",
      "            240 LOAD_FAST                1 (file)\n",
      "            242 LOAD_CONST               2 (('file',))\n",
      "            244 CALL_FUNCTION_KW         1\n",
      "            246 POP_TOP\n",
      "            248 JUMP_ABSOLUTE          136\n",
      "        >>  250 JUMP_FORWARD           104 (to 356)\n",
      "\n",
      " 78     >>  252 LOAD_GLOBAL              1 (hasattr)\n",
      "            254 LOAD_FAST                0 (x)\n",
      "            256 LOAD_CONST              12 ('co_code')\n",
      "            258 CALL_FUNCTION            2\n",
      "            260 EXTENDED_ARG             1\n",
      "            262 POP_JUMP_IF_FALSE      280\n",
      "\n",
      " 79         264 LOAD_GLOBAL             15 (_disassemble_recursive)\n",
      "            266 LOAD_FAST                0 (x)\n",
      "            268 LOAD_FAST                1 (file)\n",
      "            270 LOAD_FAST                2 (depth)\n",
      "            272 LOAD_CONST              10 (('file', 'depth'))\n",
      "            274 CALL_FUNCTION_KW         3\n",
      "            276 POP_TOP\n",
      "            278 JUMP_FORWARD            76 (to 356)\n",
      "\n",
      " 80     >>  280 LOAD_GLOBAL             10 (isinstance)\n",
      "            282 LOAD_FAST                0 (x)\n",
      "            284 LOAD_GLOBAL             16 (bytes)\n",
      "            286 LOAD_GLOBAL             17 (bytearray)\n",
      "            288 BUILD_TUPLE              2\n",
      "            290 CALL_FUNCTION            2\n",
      "            292 EXTENDED_ARG             1\n",
      "            294 POP_JUMP_IF_FALSE      310\n",
      "\n",
      " 81         296 LOAD_GLOBAL             18 (_disassemble_bytes)\n",
      "            298 LOAD_FAST                0 (x)\n",
      "            300 LOAD_FAST                1 (file)\n",
      "            302 LOAD_CONST               2 (('file',))\n",
      "            304 CALL_FUNCTION_KW         2\n",
      "            306 POP_TOP\n",
      "            308 JUMP_FORWARD            46 (to 356)\n",
      "\n",
      " 82     >>  310 LOAD_GLOBAL             10 (isinstance)\n",
      "            312 LOAD_FAST                0 (x)\n",
      "            314 LOAD_GLOBAL             19 (str)\n",
      "            316 CALL_FUNCTION            2\n",
      "            318 EXTENDED_ARG             1\n",
      "            320 POP_JUMP_IF_FALSE      338\n",
      "\n",
      " 83         322 LOAD_GLOBAL             20 (_disassemble_str)\n",
      "            324 LOAD_FAST                0 (x)\n",
      "            326 LOAD_FAST                1 (file)\n",
      "            328 LOAD_FAST                2 (depth)\n",
      "            330 LOAD_CONST              10 (('file', 'depth'))\n",
      "            332 CALL_FUNCTION_KW         3\n",
      "            334 POP_TOP\n",
      "            336 JUMP_FORWARD            18 (to 356)\n",
      "\n",
      " 85     >>  338 LOAD_GLOBAL             14 (TypeError)\n",
      "            340 LOAD_CONST              13 (\"don't know how to disassemble %s objects\")\n",
      "\n",
      " 86         342 LOAD_GLOBAL             21 (type)\n",
      "            344 LOAD_FAST                0 (x)\n",
      "            346 CALL_FUNCTION            1\n",
      "            348 LOAD_ATTR               22 (__name__)\n",
      "\n",
      " 85         350 BINARY_MODULO\n",
      "            352 CALL_FUNCTION            1\n",
      "    -->     354 RAISE_VARARGS            1\n",
      "        >>  356 LOAD_CONST               1 (None)\n",
      "            358 RETURN_VALUE\n"
     ]
    }
   ],
   "source": [
    "dis.dis(print(a+b))"
   ]
  },
  {
   "cell_type": "code",
   "execution_count": 52,
   "metadata": {},
   "outputs": [
    {
     "name": "stdout",
     "output_type": "stream",
     "text": [
      "  1           0 BUILD_MAP                0\n",
      "              2 RETURN_VALUE\n"
     ]
    }
   ],
   "source": [
    "dis.dis(\"{}\") "
   ]
  },
  {
   "cell_type": "code",
   "execution_count": 53,
   "metadata": {},
   "outputs": [
    {
     "name": "stdout",
     "output_type": "stream",
     "text": [
      "  1           0 LOAD_NAME                0 (dict)\n",
      "              2 CALL_FUNCTION            0\n",
      "              4 RETURN_VALUE\n"
     ]
    }
   ],
   "source": [
    "dis.dis(\"dict()\")"
   ]
  },
  {
   "cell_type": "code",
   "execution_count": 54,
   "metadata": {},
   "outputs": [
    {
     "data": {
      "text/plain": [
       "<code object <module> at 0x7f7fb66d39d0, file \"\", line 1>"
      ]
     },
     "execution_count": 54,
     "metadata": {},
     "output_type": "execute_result"
    }
   ],
   "source": [
    "c = compile(\"a=a+1\", \"\", \"single\")\n",
    "c"
   ]
  },
  {
   "cell_type": "code",
   "execution_count": 55,
   "metadata": {},
   "outputs": [
    {
     "data": {
      "text/plain": [
       "b'd\\x00S\\x00'"
      ]
     },
     "execution_count": 55,
     "metadata": {},
     "output_type": "execute_result"
    }
   ],
   "source": [
    "co = compile('2+2', '<none>', 'eval')\n",
    "#co = compile(\"print('Hello, wrld!')\", '<string>', 'eval')\n",
    "co.co_code"
   ]
  },
  {
   "cell_type": "markdown",
   "metadata": {},
   "source": [
    "### The result is a bytes literal which is prefixed with b'. \n",
    "### It is an immutable sequence of bytes and has a type of bytes."
   ]
  },
  {
   "cell_type": "code",
   "execution_count": 56,
   "metadata": {},
   "outputs": [
    {
     "name": "stdout",
     "output_type": "stream",
     "text": [
      "100 0 83 0 "
     ]
    }
   ],
   "source": [
    "for byte in co.co_code:\n",
    "    print(byte, end=' ')"
   ]
  },
  {
   "cell_type": "markdown",
   "metadata": {},
   "source": [
    "# Optimization"
   ]
  },
  {
   "cell_type": "markdown",
   "metadata": {},
   "source": [
    "## A. Lists vs Tuples\n"
   ]
  },
  {
   "cell_type": "markdown",
   "metadata": {},
   "source": [
    "### 1. Lists over-allocate memory\n",
    "Unlike lists, tuples do not use over-allocation. They are of fixed size and can store data more compactly."
   ]
  },
  {
   "cell_type": "code",
   "execution_count": 19,
   "metadata": {},
   "outputs": [],
   "source": [
    "a = tuple(range(10))\n",
    "\n",
    "b = list(range(10))"
   ]
  },
  {
   "cell_type": "code",
   "execution_count": 20,
   "metadata": {},
   "outputs": [
    {
     "data": {
      "text/plain": [
       "(0, 1, 2, 3, 4, 5, 6, 7, 8, 9)"
      ]
     },
     "execution_count": 20,
     "metadata": {},
     "output_type": "execute_result"
    }
   ],
   "source": [
    "a"
   ]
  },
  {
   "cell_type": "code",
   "execution_count": 21,
   "metadata": {},
   "outputs": [
    {
     "data": {
      "text/plain": [
       "3"
      ]
     },
     "execution_count": 21,
     "metadata": {},
     "output_type": "execute_result"
    }
   ],
   "source": [
    "a[3]"
   ]
  },
  {
   "cell_type": "code",
   "execution_count": 22,
   "metadata": {},
   "outputs": [
    {
     "data": {
      "text/plain": [
       "[0, 1, 2, 3, 4, 5, 6, 7, 8, 9]"
      ]
     },
     "execution_count": 22,
     "metadata": {},
     "output_type": "execute_result"
    }
   ],
   "source": [
    "b"
   ]
  },
  {
   "cell_type": "code",
   "execution_count": 23,
   "metadata": {},
   "outputs": [
    {
     "data": {
      "text/plain": [
       "3"
      ]
     },
     "execution_count": 23,
     "metadata": {},
     "output_type": "execute_result"
    }
   ],
   "source": [
    "b[3]"
   ]
  },
  {
   "cell_type": "code",
   "execution_count": 30,
   "metadata": {},
   "outputs": [
    {
     "data": {
      "text/plain": [
       "4064"
      ]
     },
     "execution_count": 30,
     "metadata": {},
     "output_type": "execute_result"
    }
   ],
   "source": [
    "sys.getsizeof(a)"
   ]
  },
  {
   "cell_type": "code",
   "execution_count": 31,
   "metadata": {},
   "outputs": [
    {
     "data": {
      "text/plain": [
       "4568"
      ]
     },
     "execution_count": 31,
     "metadata": {},
     "output_type": "execute_result"
    }
   ],
   "source": [
    "sys.getsizeof(b)"
   ]
  },
  {
   "cell_type": "markdown",
   "metadata": {},
   "source": [
    "### 2. Lists have faster append\n",
    "Due to lists over-allocation, it reduces the cost of append operation as Python doesn’t need to allocate it memory at that time. Hence the append operation of a list is faster than tuple’s."
   ]
  },
  {
   "cell_type": "code",
   "execution_count": 29,
   "metadata": {},
   "outputs": [
    {
     "name": "stdout",
     "output_type": "stream",
     "text": [
      "Time for tuple -  0.001009225845336914\n",
      "Time for list -  0.0002467632293701172\n",
      "List is faster\n"
     ]
    }
   ],
   "source": [
    "a = (1,2,3) #tuple\n",
    "b = [1,2,3] #list\n",
    "\n",
    "start = time.time()\n",
    "for i in range(0,500):\n",
    "    a += (4,)\n",
    "tuple_time  = time.time() - start\n",
    "print('Time for tuple - ', tuple_time)\n",
    "\n",
    "start = time.time()\n",
    "for i in range(0,500):\n",
    "    b.append(4)\n",
    "list_time = time.time() - start\n",
    "print('Time for list - ', list_time)\n",
    "\n",
    "if list_time < tuple_time:\n",
    "    print('List is faster')\n",
    "else:\n",
    "    print('Tuple is faster')"
   ]
  },
  {
   "cell_type": "markdown",
   "metadata": {},
   "source": [
    "### 3. Copy\n",
    " Since tuples are immutable, they do not have to be copied. Rather, Python just refers the memory address of the old tuple to the new one."
   ]
  },
  {
   "cell_type": "code",
   "execution_count": 32,
   "metadata": {},
   "outputs": [],
   "source": [
    "a = (1,2,3) #tuple\n",
    "b = [1,2,3] #list"
   ]
  },
  {
   "cell_type": "code",
   "execution_count": 33,
   "metadata": {},
   "outputs": [
    {
     "name": "stdout",
     "output_type": "stream",
     "text": [
      "(1, 2, 3) [1, 2, 3]\n"
     ]
    }
   ],
   "source": [
    "print(a, b)"
   ]
  },
  {
   "cell_type": "code",
   "execution_count": 34,
   "metadata": {},
   "outputs": [
    {
     "data": {
      "text/plain": [
       "True"
      ]
     },
     "execution_count": 34,
     "metadata": {},
     "output_type": "execute_result"
    }
   ],
   "source": [
    "c = a\n",
    "c is a"
   ]
  },
  {
   "cell_type": "code",
   "execution_count": 35,
   "metadata": {},
   "outputs": [
    {
     "data": {
      "text/plain": [
       "True"
      ]
     },
     "execution_count": 35,
     "metadata": {},
     "output_type": "execute_result"
    }
   ],
   "source": [
    "d = b\n",
    "d is b"
   ]
  },
  {
   "cell_type": "code",
   "execution_count": 36,
   "metadata": {},
   "outputs": [],
   "source": [
    "c = c + (7,)"
   ]
  },
  {
   "cell_type": "code",
   "execution_count": 37,
   "metadata": {},
   "outputs": [],
   "source": [
    "d.append(7)"
   ]
  },
  {
   "cell_type": "code",
   "execution_count": 38,
   "metadata": {},
   "outputs": [
    {
     "data": {
      "text/plain": [
       "((1, 2, 3, 7), [1, 2, 3, 7])"
      ]
     },
     "execution_count": 38,
     "metadata": {},
     "output_type": "execute_result"
    }
   ],
   "source": [
    "c, d"
   ]
  },
  {
   "cell_type": "code",
   "execution_count": 39,
   "metadata": {},
   "outputs": [
    {
     "name": "stdout",
     "output_type": "stream",
     "text": [
      "(1, 2, 3) [1, 2, 3, 7]\n"
     ]
    }
   ],
   "source": [
    "print(a, b)"
   ]
  },
  {
   "cell_type": "markdown",
   "metadata": {},
   "source": [
    "## B. Dictionary vs List"
   ]
  },
  {
   "cell_type": "code",
   "execution_count": 40,
   "metadata": {},
   "outputs": [],
   "source": [
    "list1 = [4, 0.22, 'Hello', [1, 2, 3], -2.5, 0.22]\n",
    "dict1 = {'key1': [2.3,3], 'key2': \"smthng\", '34': 33}"
   ]
  },
  {
   "cell_type": "code",
   "execution_count": 41,
   "metadata": {},
   "outputs": [],
   "source": [
    "def find_number_in_list(lst, number):\n",
    "    if number in lst:\n",
    "        return True\n",
    "    else:\n",
    "        return False"
   ]
  },
  {
   "cell_type": "code",
   "execution_count": 42,
   "metadata": {},
   "outputs": [],
   "source": [
    "def find_number_in_dict(dct, number):\n",
    "    if number in dct.keys():\n",
    "        return True\n",
    "    else:\n",
    "        return False"
   ]
  },
  {
   "cell_type": "code",
   "execution_count": 43,
   "metadata": {},
   "outputs": [],
   "source": [
    "short_list = list(range(100))\n",
    "long_list = list(range(100000000))"
   ]
  },
  {
   "cell_type": "code",
   "execution_count": 44,
   "metadata": {},
   "outputs": [],
   "source": [
    "short_dict = {x:x*5 for x in range(1,100)}\n",
    "long_dict = {x:x*5 for x in range(1,100000000)}"
   ]
  },
  {
   "cell_type": "code",
   "execution_count": 45,
   "metadata": {},
   "outputs": [
    {
     "name": "stdout",
     "output_type": "stream",
     "text": [
      "1.84 µs ± 604 ns per loop (mean ± std. dev. of 7 runs, 1000000 loops each)\n"
     ]
    }
   ],
   "source": [
    "%timeit find_number_in_list(short_list, 99)"
   ]
  },
  {
   "cell_type": "code",
   "execution_count": 46,
   "metadata": {},
   "outputs": [
    {
     "name": "stdout",
     "output_type": "stream",
     "text": [
      "1.36 s ± 62.2 ms per loop (mean ± std. dev. of 7 runs, 1 loop each)\n"
     ]
    }
   ],
   "source": [
    "%timeit find_number_in_list(long_list, 99999999)"
   ]
  },
  {
   "cell_type": "code",
   "execution_count": 47,
   "metadata": {},
   "outputs": [
    {
     "name": "stdout",
     "output_type": "stream",
     "text": [
      "168 ns ± 13.3 ns per loop (mean ± std. dev. of 7 runs, 10000000 loops each)\n"
     ]
    }
   ],
   "source": [
    "%timeit find_number_in_dict(short_dict, 99)"
   ]
  },
  {
   "cell_type": "code",
   "execution_count": 48,
   "metadata": {},
   "outputs": [
    {
     "name": "stdout",
     "output_type": "stream",
     "text": [
      "220 ns ± 35.3 ns per loop (mean ± std. dev. of 7 runs, 1000000 loops each)\n"
     ]
    }
   ],
   "source": [
    "%timeit find_number_in_dict(long_dict, 99999999)"
   ]
  },
  {
   "cell_type": "code",
   "execution_count": 49,
   "metadata": {},
   "outputs": [
    {
     "data": {
      "text/plain": [
       "762.9395065307617"
      ]
     },
     "execution_count": 49,
     "metadata": {},
     "output_type": "execute_result"
    }
   ],
   "source": [
    "sys.getsizeof(long_list)/(1024*1024) #MB"
   ]
  },
  {
   "cell_type": "code",
   "execution_count": 50,
   "metadata": {},
   "outputs": [
    {
     "data": {
      "text/plain": [
       "5120.00008392334"
      ]
     },
     "execution_count": 50,
     "metadata": {},
     "output_type": "execute_result"
    }
   ],
   "source": [
    "sys.getsizeof(long_dict)/(1024*1024) #MB"
   ]
  },
  {
   "cell_type": "code",
   "execution_count": null,
   "metadata": {},
   "outputs": [],
   "source": [
    "#10Hz sensor: 1 month of data: 25.920.000 records, 4 month: 103.680.000"
   ]
  }
 ],
 "metadata": {
  "celltoolbar": "Raw Cell Format",
  "kernelspec": {
   "display_name": "sustain",
   "language": "python",
   "name": "sustain"
  },
  "language_info": {
   "codemirror_mode": {
    "name": "ipython",
    "version": 3
   },
   "file_extension": ".py",
   "mimetype": "text/x-python",
   "name": "python",
   "nbconvert_exporter": "python",
   "pygments_lexer": "ipython3",
   "version": "3.8.3"
  }
 },
 "nbformat": 4,
 "nbformat_minor": 4
}
