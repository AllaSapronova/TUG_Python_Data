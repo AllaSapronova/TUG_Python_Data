{
 "cells": [
  {
   "cell_type": "code",
   "execution_count": 168,
   "metadata": {},
   "outputs": [],
   "source": [
    "import numpy as np\n",
    "import random\n",
    "import pandas as pd\n",
    "import seaborn as sns\n",
    "\n",
    "import matplotlib.pyplot as plt\n",
    "%matplotlib inline"
   ]
  },
  {
   "cell_type": "markdown",
   "metadata": {},
   "source": [
    "## data aggregation"
   ]
  },
  {
   "cell_type": "code",
   "execution_count": 169,
   "metadata": {},
   "outputs": [
    {
     "data": {
      "text/html": [
       "<div>\n",
       "<style scoped>\n",
       "    .dataframe tbody tr th:only-of-type {\n",
       "        vertical-align: middle;\n",
       "    }\n",
       "\n",
       "    .dataframe tbody tr th {\n",
       "        vertical-align: top;\n",
       "    }\n",
       "\n",
       "    .dataframe thead th {\n",
       "        text-align: right;\n",
       "    }\n",
       "</style>\n",
       "<table border=\"1\" class=\"dataframe\">\n",
       "  <thead>\n",
       "    <tr style=\"text-align: right;\">\n",
       "      <th></th>\n",
       "      <th>A</th>\n",
       "      <th>B</th>\n",
       "      <th>C</th>\n",
       "      <th>D</th>\n",
       "    </tr>\n",
       "  </thead>\n",
       "  <tbody>\n",
       "    <tr>\n",
       "      <th>2020-01-12</th>\n",
       "      <td>0.406941</td>\n",
       "      <td>-1.221201</td>\n",
       "      <td>-0.071997</td>\n",
       "      <td>-1.100212</td>\n",
       "    </tr>\n",
       "    <tr>\n",
       "      <th>2020-01-13</th>\n",
       "      <td>-0.467961</td>\n",
       "      <td>2.229176</td>\n",
       "      <td>-0.480912</td>\n",
       "      <td>-1.140054</td>\n",
       "    </tr>\n",
       "    <tr>\n",
       "      <th>2020-01-14</th>\n",
       "      <td>1.487103</td>\n",
       "      <td>-0.443994</td>\n",
       "      <td>1.405901</td>\n",
       "      <td>0.290424</td>\n",
       "    </tr>\n",
       "    <tr>\n",
       "      <th>2020-01-15</th>\n",
       "      <td>0.283066</td>\n",
       "      <td>0.634343</td>\n",
       "      <td>-0.219961</td>\n",
       "      <td>-0.309138</td>\n",
       "    </tr>\n",
       "    <tr>\n",
       "      <th>2020-01-16</th>\n",
       "      <td>-1.400546</td>\n",
       "      <td>0.182405</td>\n",
       "      <td>-0.451744</td>\n",
       "      <td>1.626180</td>\n",
       "    </tr>\n",
       "  </tbody>\n",
       "</table>\n",
       "</div>"
      ],
      "text/plain": [
       "                   A         B         C         D\n",
       "2020-01-12  0.406941 -1.221201 -0.071997 -1.100212\n",
       "2020-01-13 -0.467961  2.229176 -0.480912 -1.140054\n",
       "2020-01-14  1.487103 -0.443994  1.405901  0.290424\n",
       "2020-01-15  0.283066  0.634343 -0.219961 -0.309138\n",
       "2020-01-16 -1.400546  0.182405 -0.451744  1.626180"
      ]
     },
     "execution_count": 169,
     "metadata": {},
     "output_type": "execute_result"
    }
   ],
   "source": [
    "df = pd.DataFrame(np.random.randn(30, 4),\n",
    "      index = pd.date_range('1/12/2020', periods=30),\n",
    "      columns = ['A', 'B', 'C', 'D'])\n",
    "\n",
    "df.head()"
   ]
  },
  {
   "cell_type": "markdown",
   "metadata": {},
   "source": [
    "!['img'](rolling.png)"
   ]
  },
  {
   "cell_type": "code",
   "execution_count": 170,
   "metadata": {},
   "outputs": [
    {
     "data": {
      "text/plain": [
       "Rolling [window=3,min_periods=1,center=False,axis=0]"
      ]
     },
     "execution_count": 170,
     "metadata": {},
     "output_type": "execute_result"
    }
   ],
   "source": [
    "r = df.rolling(window=3,min_periods=1)\n",
    "r"
   ]
  },
  {
   "cell_type": "code",
   "execution_count": 172,
   "metadata": {},
   "outputs": [
    {
     "data": {
      "text/html": [
       "<div>\n",
       "<style scoped>\n",
       "    .dataframe tbody tr th:only-of-type {\n",
       "        vertical-align: middle;\n",
       "    }\n",
       "\n",
       "    .dataframe tbody tr th {\n",
       "        vertical-align: top;\n",
       "    }\n",
       "\n",
       "    .dataframe thead th {\n",
       "        text-align: right;\n",
       "    }\n",
       "</style>\n",
       "<table border=\"1\" class=\"dataframe\">\n",
       "  <thead>\n",
       "    <tr style=\"text-align: right;\">\n",
       "      <th></th>\n",
       "      <th>A</th>\n",
       "      <th>B</th>\n",
       "      <th>C</th>\n",
       "      <th>D</th>\n",
       "    </tr>\n",
       "  </thead>\n",
       "  <tbody>\n",
       "    <tr>\n",
       "      <th>2020-01-12</th>\n",
       "      <td>0.406941</td>\n",
       "      <td>-1.221201</td>\n",
       "      <td>-0.071997</td>\n",
       "      <td>-1.100212</td>\n",
       "    </tr>\n",
       "    <tr>\n",
       "      <th>2020-01-13</th>\n",
       "      <td>-0.061020</td>\n",
       "      <td>1.007976</td>\n",
       "      <td>-0.552909</td>\n",
       "      <td>-2.240266</td>\n",
       "    </tr>\n",
       "    <tr>\n",
       "      <th>2020-01-14</th>\n",
       "      <td>1.426082</td>\n",
       "      <td>0.563981</td>\n",
       "      <td>0.852992</td>\n",
       "      <td>-1.949842</td>\n",
       "    </tr>\n",
       "    <tr>\n",
       "      <th>2020-01-15</th>\n",
       "      <td>1.302207</td>\n",
       "      <td>2.419525</td>\n",
       "      <td>0.705028</td>\n",
       "      <td>-1.158768</td>\n",
       "    </tr>\n",
       "    <tr>\n",
       "      <th>2020-01-16</th>\n",
       "      <td>0.369622</td>\n",
       "      <td>0.372753</td>\n",
       "      <td>0.734196</td>\n",
       "      <td>1.607466</td>\n",
       "    </tr>\n",
       "    <tr>\n",
       "      <th>2020-01-17</th>\n",
       "      <td>-3.976526</td>\n",
       "      <td>1.398116</td>\n",
       "      <td>-0.540978</td>\n",
       "      <td>0.333973</td>\n",
       "    </tr>\n",
       "    <tr>\n",
       "      <th>2020-01-18</th>\n",
       "      <td>-3.591910</td>\n",
       "      <td>-1.002082</td>\n",
       "      <td>-1.287058</td>\n",
       "      <td>-0.695239</td>\n",
       "    </tr>\n",
       "    <tr>\n",
       "      <th>2020-01-19</th>\n",
       "      <td>-3.167628</td>\n",
       "      <td>-0.443328</td>\n",
       "      <td>-1.126644</td>\n",
       "      <td>-2.290698</td>\n",
       "    </tr>\n",
       "    <tr>\n",
       "      <th>2020-01-20</th>\n",
       "      <td>0.493573</td>\n",
       "      <td>-0.506375</td>\n",
       "      <td>0.450503</td>\n",
       "      <td>-1.410568</td>\n",
       "    </tr>\n",
       "    <tr>\n",
       "      <th>2020-01-21</th>\n",
       "      <td>-0.629291</td>\n",
       "      <td>1.017215</td>\n",
       "      <td>2.512034</td>\n",
       "      <td>-0.392500</td>\n",
       "    </tr>\n",
       "    <tr>\n",
       "      <th>2020-01-22</th>\n",
       "      <td>2.253527</td>\n",
       "      <td>0.609527</td>\n",
       "      <td>2.322040</td>\n",
       "      <td>-0.581428</td>\n",
       "    </tr>\n",
       "    <tr>\n",
       "      <th>2020-01-23</th>\n",
       "      <td>1.962959</td>\n",
       "      <td>-2.166824</td>\n",
       "      <td>0.457401</td>\n",
       "      <td>-0.933472</td>\n",
       "    </tr>\n",
       "  </tbody>\n",
       "</table>\n",
       "</div>"
      ],
      "text/plain": [
       "                   A         B         C         D\n",
       "2020-01-12  0.406941 -1.221201 -0.071997 -1.100212\n",
       "2020-01-13 -0.061020  1.007976 -0.552909 -2.240266\n",
       "2020-01-14  1.426082  0.563981  0.852992 -1.949842\n",
       "2020-01-15  1.302207  2.419525  0.705028 -1.158768\n",
       "2020-01-16  0.369622  0.372753  0.734196  1.607466\n",
       "2020-01-17 -3.976526  1.398116 -0.540978  0.333973\n",
       "2020-01-18 -3.591910 -1.002082 -1.287058 -0.695239\n",
       "2020-01-19 -3.167628 -0.443328 -1.126644 -2.290698\n",
       "2020-01-20  0.493573 -0.506375  0.450503 -1.410568\n",
       "2020-01-21 -0.629291  1.017215  2.512034 -0.392500\n",
       "2020-01-22  2.253527  0.609527  2.322040 -0.581428\n",
       "2020-01-23  1.962959 -2.166824  0.457401 -0.933472"
      ]
     },
     "execution_count": 172,
     "metadata": {},
     "output_type": "execute_result"
    }
   ],
   "source": [
    "r.aggregate(np.sum)[:12]"
   ]
  },
  {
   "cell_type": "code",
   "execution_count": 173,
   "metadata": {},
   "outputs": [
    {
     "data": {
      "text/plain": [
       "2020-01-12    0.406941\n",
       "2020-01-13   -0.061020\n",
       "2020-01-14    1.426082\n",
       "2020-01-15    1.302207\n",
       "2020-01-16    0.369622\n",
       "2020-01-17   -3.976526\n",
       "2020-01-18   -3.591910\n",
       "2020-01-19   -3.167628\n",
       "2020-01-20    0.493573\n",
       "Freq: D, Name: A, dtype: float64"
      ]
     },
     "execution_count": 173,
     "metadata": {},
     "output_type": "execute_result"
    }
   ],
   "source": [
    "r['A'].aggregate(np.sum)[:9]"
   ]
  },
  {
   "cell_type": "code",
   "execution_count": 174,
   "metadata": {},
   "outputs": [
    {
     "data": {
      "text/html": [
       "<div>\n",
       "<style scoped>\n",
       "    .dataframe tbody tr th:only-of-type {\n",
       "        vertical-align: middle;\n",
       "    }\n",
       "\n",
       "    .dataframe tbody tr th {\n",
       "        vertical-align: top;\n",
       "    }\n",
       "\n",
       "    .dataframe thead th {\n",
       "        text-align: right;\n",
       "    }\n",
       "</style>\n",
       "<table border=\"1\" class=\"dataframe\">\n",
       "  <thead>\n",
       "    <tr style=\"text-align: right;\">\n",
       "      <th></th>\n",
       "      <th>A</th>\n",
       "      <th>B</th>\n",
       "    </tr>\n",
       "  </thead>\n",
       "  <tbody>\n",
       "    <tr>\n",
       "      <th>2020-01-12</th>\n",
       "      <td>0.406941</td>\n",
       "      <td>-1.221201</td>\n",
       "    </tr>\n",
       "    <tr>\n",
       "      <th>2020-01-13</th>\n",
       "      <td>-0.030510</td>\n",
       "      <td>0.503988</td>\n",
       "    </tr>\n",
       "    <tr>\n",
       "      <th>2020-01-14</th>\n",
       "      <td>0.475361</td>\n",
       "      <td>0.187994</td>\n",
       "    </tr>\n",
       "    <tr>\n",
       "      <th>2020-01-15</th>\n",
       "      <td>0.434069</td>\n",
       "      <td>0.806508</td>\n",
       "    </tr>\n",
       "  </tbody>\n",
       "</table>\n",
       "</div>"
      ],
      "text/plain": [
       "                   A         B\n",
       "2020-01-12  0.406941 -1.221201\n",
       "2020-01-13 -0.030510  0.503988\n",
       "2020-01-14  0.475361  0.187994\n",
       "2020-01-15  0.434069  0.806508"
      ]
     },
     "execution_count": 174,
     "metadata": {},
     "output_type": "execute_result"
    }
   ],
   "source": [
    "r[['A','B']].aggregate(np.mean)[:4]"
   ]
  },
  {
   "cell_type": "code",
   "execution_count": 175,
   "metadata": {},
   "outputs": [],
   "source": [
    "df['big'] = 0\n",
    "df.loc[df['A'] > 0.9, 'big'] = 1 #set some 'big' numbers class"
   ]
  },
  {
   "cell_type": "code",
   "execution_count": 181,
   "metadata": {},
   "outputs": [
    {
     "data": {
      "text/html": [
       "<div>\n",
       "<style scoped>\n",
       "    .dataframe tbody tr th:only-of-type {\n",
       "        vertical-align: middle;\n",
       "    }\n",
       "\n",
       "    .dataframe tbody tr th {\n",
       "        vertical-align: top;\n",
       "    }\n",
       "\n",
       "    .dataframe thead th {\n",
       "        text-align: right;\n",
       "    }\n",
       "</style>\n",
       "<table border=\"1\" class=\"dataframe\">\n",
       "  <thead>\n",
       "    <tr style=\"text-align: right;\">\n",
       "      <th></th>\n",
       "      <th>B</th>\n",
       "      <th>C</th>\n",
       "      <th>D</th>\n",
       "    </tr>\n",
       "    <tr>\n",
       "      <th>big</th>\n",
       "      <th></th>\n",
       "      <th></th>\n",
       "      <th></th>\n",
       "    </tr>\n",
       "  </thead>\n",
       "  <tbody>\n",
       "    <tr>\n",
       "      <th>0</th>\n",
       "      <td>-3.964262</td>\n",
       "      <td>-1.041505</td>\n",
       "      <td>-5.88792</td>\n",
       "    </tr>\n",
       "    <tr>\n",
       "      <th>1</th>\n",
       "      <td>1.349446</td>\n",
       "      <td>-0.609818</td>\n",
       "      <td>1.52784</td>\n",
       "    </tr>\n",
       "  </tbody>\n",
       "</table>\n",
       "</div>"
      ],
      "text/plain": [
       "            B         C        D\n",
       "big                             \n",
       "0   -3.964262 -1.041505 -5.88792\n",
       "1    1.349446 -0.609818  1.52784"
      ]
     },
     "execution_count": 181,
     "metadata": {},
     "output_type": "execute_result"
    }
   ],
   "source": [
    "df.loc[:, df.columns != 'A'].groupby('big').aggregate(sum)"
   ]
  },
  {
   "cell_type": "code",
   "execution_count": 183,
   "metadata": {},
   "outputs": [
    {
     "data": {
      "text/html": [
       "<div>\n",
       "<style scoped>\n",
       "    .dataframe tbody tr th:only-of-type {\n",
       "        vertical-align: middle;\n",
       "    }\n",
       "\n",
       "    .dataframe tbody tr th {\n",
       "        vertical-align: top;\n",
       "    }\n",
       "\n",
       "    .dataframe thead th {\n",
       "        text-align: right;\n",
       "    }\n",
       "</style>\n",
       "<table border=\"1\" class=\"dataframe\">\n",
       "  <thead>\n",
       "    <tr style=\"text-align: right;\">\n",
       "      <th></th>\n",
       "      <th>B</th>\n",
       "      <th>C</th>\n",
       "      <th>D</th>\n",
       "    </tr>\n",
       "    <tr>\n",
       "      <th>big</th>\n",
       "      <th></th>\n",
       "      <th></th>\n",
       "      <th></th>\n",
       "    </tr>\n",
       "  </thead>\n",
       "  <tbody>\n",
       "    <tr>\n",
       "      <th>0</th>\n",
       "      <td>26</td>\n",
       "      <td>26</td>\n",
       "      <td>26</td>\n",
       "    </tr>\n",
       "    <tr>\n",
       "      <th>1</th>\n",
       "      <td>4</td>\n",
       "      <td>4</td>\n",
       "      <td>4</td>\n",
       "    </tr>\n",
       "  </tbody>\n",
       "</table>\n",
       "</div>"
      ],
      "text/plain": [
       "      B   C   D\n",
       "big            \n",
       "0    26  26  26\n",
       "1     4   4   4"
      ]
     },
     "execution_count": 183,
     "metadata": {},
     "output_type": "execute_result"
    }
   ],
   "source": [
    "df.loc[:, df.columns != 'A'].groupby('big').count()"
   ]
  },
  {
   "cell_type": "markdown",
   "metadata": {},
   "source": [
    "# Let's try to cluster our datasets.\n",
    "## Clustering is an unsupervised problem of finding natural groups in the feature space of input data."
   ]
  },
  {
   "cell_type": "code",
   "execution_count": 184,
   "metadata": {},
   "outputs": [
    {
     "data": {
      "text/html": [
       "<div>\n",
       "<style scoped>\n",
       "    .dataframe tbody tr th:only-of-type {\n",
       "        vertical-align: middle;\n",
       "    }\n",
       "\n",
       "    .dataframe tbody tr th {\n",
       "        vertical-align: top;\n",
       "    }\n",
       "\n",
       "    .dataframe thead th {\n",
       "        text-align: right;\n",
       "    }\n",
       "</style>\n",
       "<table border=\"1\" class=\"dataframe\">\n",
       "  <thead>\n",
       "    <tr style=\"text-align: right;\">\n",
       "      <th></th>\n",
       "      <th>index</th>\n",
       "      <th>A</th>\n",
       "      <th>B</th>\n",
       "      <th>C</th>\n",
       "      <th>D</th>\n",
       "      <th>big</th>\n",
       "    </tr>\n",
       "  </thead>\n",
       "  <tbody>\n",
       "    <tr>\n",
       "      <th>0</th>\n",
       "      <td>2020-01-12</td>\n",
       "      <td>0.406941</td>\n",
       "      <td>-1.221201</td>\n",
       "      <td>-0.071997</td>\n",
       "      <td>-1.100212</td>\n",
       "      <td>0</td>\n",
       "    </tr>\n",
       "    <tr>\n",
       "      <th>1</th>\n",
       "      <td>2020-01-13</td>\n",
       "      <td>-0.467961</td>\n",
       "      <td>2.229176</td>\n",
       "      <td>-0.480912</td>\n",
       "      <td>-1.140054</td>\n",
       "      <td>0</td>\n",
       "    </tr>\n",
       "    <tr>\n",
       "      <th>2</th>\n",
       "      <td>2020-01-14</td>\n",
       "      <td>1.487103</td>\n",
       "      <td>-0.443994</td>\n",
       "      <td>1.405901</td>\n",
       "      <td>0.290424</td>\n",
       "      <td>1</td>\n",
       "    </tr>\n",
       "    <tr>\n",
       "      <th>3</th>\n",
       "      <td>2020-01-15</td>\n",
       "      <td>0.283066</td>\n",
       "      <td>0.634343</td>\n",
       "      <td>-0.219961</td>\n",
       "      <td>-0.309138</td>\n",
       "      <td>0</td>\n",
       "    </tr>\n",
       "    <tr>\n",
       "      <th>4</th>\n",
       "      <td>2020-01-16</td>\n",
       "      <td>-1.400546</td>\n",
       "      <td>0.182405</td>\n",
       "      <td>-0.451744</td>\n",
       "      <td>1.626180</td>\n",
       "      <td>0</td>\n",
       "    </tr>\n",
       "  </tbody>\n",
       "</table>\n",
       "</div>"
      ],
      "text/plain": [
       "       index         A         B         C         D  big\n",
       "0 2020-01-12  0.406941 -1.221201 -0.071997 -1.100212    0\n",
       "1 2020-01-13 -0.467961  2.229176 -0.480912 -1.140054    0\n",
       "2 2020-01-14  1.487103 -0.443994  1.405901  0.290424    1\n",
       "3 2020-01-15  0.283066  0.634343 -0.219961 -0.309138    0\n",
       "4 2020-01-16 -1.400546  0.182405 -0.451744  1.626180    0"
      ]
     },
     "execution_count": 184,
     "metadata": {},
     "output_type": "execute_result"
    }
   ],
   "source": [
    "#need to change the index first\n",
    "df = df.reset_index()\n",
    "df.head()"
   ]
  },
  {
   "cell_type": "code",
   "execution_count": 185,
   "metadata": {},
   "outputs": [
    {
     "data": {
      "text/html": [
       "<div>\n",
       "<style scoped>\n",
       "    .dataframe tbody tr th:only-of-type {\n",
       "        vertical-align: middle;\n",
       "    }\n",
       "\n",
       "    .dataframe tbody tr th {\n",
       "        vertical-align: top;\n",
       "    }\n",
       "\n",
       "    .dataframe thead th {\n",
       "        text-align: right;\n",
       "    }\n",
       "</style>\n",
       "<table border=\"1\" class=\"dataframe\">\n",
       "  <thead>\n",
       "    <tr style=\"text-align: right;\">\n",
       "      <th></th>\n",
       "      <th>A</th>\n",
       "      <th>B</th>\n",
       "      <th>C</th>\n",
       "      <th>D</th>\n",
       "    </tr>\n",
       "  </thead>\n",
       "  <tbody>\n",
       "    <tr>\n",
       "      <th>0</th>\n",
       "      <td>0.406941</td>\n",
       "      <td>-1.221201</td>\n",
       "      <td>-0.071997</td>\n",
       "      <td>-1.100212</td>\n",
       "    </tr>\n",
       "    <tr>\n",
       "      <th>1</th>\n",
       "      <td>-0.467961</td>\n",
       "      <td>2.229176</td>\n",
       "      <td>-0.480912</td>\n",
       "      <td>-1.140054</td>\n",
       "    </tr>\n",
       "    <tr>\n",
       "      <th>2</th>\n",
       "      <td>1.487103</td>\n",
       "      <td>-0.443994</td>\n",
       "      <td>1.405901</td>\n",
       "      <td>0.290424</td>\n",
       "    </tr>\n",
       "    <tr>\n",
       "      <th>3</th>\n",
       "      <td>0.283066</td>\n",
       "      <td>0.634343</td>\n",
       "      <td>-0.219961</td>\n",
       "      <td>-0.309138</td>\n",
       "    </tr>\n",
       "  </tbody>\n",
       "</table>\n",
       "</div>"
      ],
      "text/plain": [
       "          A         B         C         D\n",
       "0  0.406941 -1.221201 -0.071997 -1.100212\n",
       "1 -0.467961  2.229176 -0.480912 -1.140054\n",
       "2  1.487103 -0.443994  1.405901  0.290424\n",
       "3  0.283066  0.634343 -0.219961 -0.309138"
      ]
     },
     "execution_count": 185,
     "metadata": {},
     "output_type": "execute_result"
    }
   ],
   "source": [
    "df.iloc[:4,1:-1] #slice df, select all but the first and the last column"
   ]
  },
  {
   "cell_type": "markdown",
   "metadata": {},
   "source": [
    "## PCA"
   ]
  },
  {
   "cell_type": "code",
   "execution_count": 186,
   "metadata": {},
   "outputs": [],
   "source": [
    "from sklearn.decomposition import PCA\n",
    "from sklearn.preprocessing import StandardScaler"
   ]
  },
  {
   "cell_type": "code",
   "execution_count": 187,
   "metadata": {},
   "outputs": [],
   "source": [
    "x = StandardScaler().fit_transform(df.iloc[:,1:-1])"
   ]
  },
  {
   "cell_type": "code",
   "execution_count": 188,
   "metadata": {},
   "outputs": [
    {
     "data": {
      "text/plain": [
       "array([[ 0.47568265, -1.0955896 , -0.01626021, -1.00997007],\n",
       "       [-0.40383547,  2.23779931, -0.40847955, -1.05211073],\n",
       "       [ 1.56154195, -0.34473493,  1.40129312,  0.46090249],\n",
       "       [ 0.35115365,  0.69704007, -0.15818289, -0.17325335]])"
      ]
     },
     "execution_count": 188,
     "metadata": {},
     "output_type": "execute_result"
    }
   ],
   "source": [
    "x[:4]"
   ]
  },
  {
   "cell_type": "code",
   "execution_count": 196,
   "metadata": {},
   "outputs": [],
   "source": [
    "pca = PCA(n_components=3)\n",
    "principalComponents = pca.fit_transform(x)\n",
    "principalDf = pd.DataFrame(data = principalComponents, columns = ['PC1', 'PC2','PC3'])"
   ]
  },
  {
   "cell_type": "code",
   "execution_count": 197,
   "metadata": {},
   "outputs": [
    {
     "data": {
      "text/plain": [
       "array([0.35252587, 0.2847496 , 0.20499618])"
      ]
     },
     "execution_count": 197,
     "metadata": {},
     "output_type": "execute_result"
    }
   ],
   "source": [
    "pca.explained_variance_ratio_"
   ]
  },
  {
   "cell_type": "code",
   "execution_count": 198,
   "metadata": {},
   "outputs": [],
   "source": [
    "finalDf = pd.concat([principalDf, df], axis = 1)"
   ]
  },
  {
   "cell_type": "code",
   "execution_count": 199,
   "metadata": {},
   "outputs": [
    {
     "data": {
      "text/html": [
       "<div>\n",
       "<style scoped>\n",
       "    .dataframe tbody tr th:only-of-type {\n",
       "        vertical-align: middle;\n",
       "    }\n",
       "\n",
       "    .dataframe tbody tr th {\n",
       "        vertical-align: top;\n",
       "    }\n",
       "\n",
       "    .dataframe thead th {\n",
       "        text-align: right;\n",
       "    }\n",
       "</style>\n",
       "<table border=\"1\" class=\"dataframe\">\n",
       "  <thead>\n",
       "    <tr style=\"text-align: right;\">\n",
       "      <th></th>\n",
       "      <th>PC1</th>\n",
       "      <th>PC2</th>\n",
       "      <th>PC3</th>\n",
       "      <th>index</th>\n",
       "      <th>A</th>\n",
       "      <th>B</th>\n",
       "      <th>C</th>\n",
       "      <th>D</th>\n",
       "      <th>big</th>\n",
       "    </tr>\n",
       "  </thead>\n",
       "  <tbody>\n",
       "    <tr>\n",
       "      <th>0</th>\n",
       "      <td>-1.053776</td>\n",
       "      <td>-0.640056</td>\n",
       "      <td>-0.005428</td>\n",
       "      <td>2020-01-12</td>\n",
       "      <td>0.406941</td>\n",
       "      <td>-1.221201</td>\n",
       "      <td>-0.071997</td>\n",
       "      <td>-1.100212</td>\n",
       "      <td>0</td>\n",
       "    </tr>\n",
       "    <tr>\n",
       "      <th>1</th>\n",
       "      <td>0.564490</td>\n",
       "      <td>1.893796</td>\n",
       "      <td>-1.576526</td>\n",
       "      <td>2020-01-13</td>\n",
       "      <td>-0.467961</td>\n",
       "      <td>2.229176</td>\n",
       "      <td>-0.480912</td>\n",
       "      <td>-1.140054</td>\n",
       "      <td>0</td>\n",
       "    </tr>\n",
       "    <tr>\n",
       "      <th>2</th>\n",
       "      <td>-0.859005</td>\n",
       "      <td>-1.429682</td>\n",
       "      <td>-0.647552</td>\n",
       "      <td>2020-01-14</td>\n",
       "      <td>1.487103</td>\n",
       "      <td>-0.443994</td>\n",
       "      <td>1.405901</td>\n",
       "      <td>0.290424</td>\n",
       "      <td>1</td>\n",
       "    </tr>\n",
       "    <tr>\n",
       "      <th>3</th>\n",
       "      <td>0.279416</td>\n",
       "      <td>0.178002</td>\n",
       "      <td>-0.744459</td>\n",
       "      <td>2020-01-15</td>\n",
       "      <td>0.283066</td>\n",
       "      <td>0.634343</td>\n",
       "      <td>-0.219961</td>\n",
       "      <td>-0.309138</td>\n",
       "      <td>0</td>\n",
       "    </tr>\n",
       "    <tr>\n",
       "      <th>4</th>\n",
       "      <td>1.526960</td>\n",
       "      <td>0.502889</td>\n",
       "      <td>1.456034</td>\n",
       "      <td>2020-01-16</td>\n",
       "      <td>-1.400546</td>\n",
       "      <td>0.182405</td>\n",
       "      <td>-0.451744</td>\n",
       "      <td>1.626180</td>\n",
       "      <td>0</td>\n",
       "    </tr>\n",
       "  </tbody>\n",
       "</table>\n",
       "</div>"
      ],
      "text/plain": [
       "        PC1       PC2       PC3      index         A         B         C  \\\n",
       "0 -1.053776 -0.640056 -0.005428 2020-01-12  0.406941 -1.221201 -0.071997   \n",
       "1  0.564490  1.893796 -1.576526 2020-01-13 -0.467961  2.229176 -0.480912   \n",
       "2 -0.859005 -1.429682 -0.647552 2020-01-14  1.487103 -0.443994  1.405901   \n",
       "3  0.279416  0.178002 -0.744459 2020-01-15  0.283066  0.634343 -0.219961   \n",
       "4  1.526960  0.502889  1.456034 2020-01-16 -1.400546  0.182405 -0.451744   \n",
       "\n",
       "          D  big  \n",
       "0 -1.100212    0  \n",
       "1 -1.140054    0  \n",
       "2  0.290424    1  \n",
       "3 -0.309138    0  \n",
       "4  1.626180    0  "
      ]
     },
     "execution_count": 199,
     "metadata": {},
     "output_type": "execute_result"
    }
   ],
   "source": [
    "finalDf.head()"
   ]
  },
  {
   "cell_type": "code",
   "execution_count": 201,
   "metadata": {},
   "outputs": [
    {
     "data": {
      "text/plain": [
       "<matplotlib.collections.PathCollection at 0x7fae3ee05430>"
      ]
     },
     "execution_count": 201,
     "metadata": {},
     "output_type": "execute_result"
    },
    {
     "data": {
      "image/png": "[encoded data removed]",
      "text/plain": [
       "<Figure size 432x288 with 1 Axes>"
      ]
     },
     "metadata": {
      "needs_background": "light"
     },
     "output_type": "display_data"
    }
   ],
   "source": [
    "plt.scatter(finalDf['PC1'], finalDf['PC3'], c = finalDf['big'], s = 15)"
   ]
  },
  {
   "cell_type": "markdown",
   "metadata": {},
   "source": [
    "## Isomap Embedding"
   ]
  },
  {
   "cell_type": "markdown",
   "metadata": {},
   "source": [
    "!['iso'](isomap.png)"
   ]
  },
  {
   "cell_type": "markdown",
   "metadata": {},
   "source": [
    "### In A we see that two points that are close together in Euclidean Space in this “Swiss roll” dataset may not reflect the intrinsic similarity between these two points.\n",
    "\n",
    "### In B a graph is constructed with each point as n nearest neighbours (K=7 here). The shortest geodesic distance is then calculated by a path finding algorithm such as Djikstra’s Shortest Path.\n",
    "\n",
    "### In C, this is the 2D graph is recovered from applying classical MDS (Multidimensional scaling) to the matrix of graph distances. A straight line has been applied to represent a simpler and cleaner approximation to the true geodesic path shown in A."
   ]
  },
  {
   "cell_type": "code",
   "execution_count": 202,
   "metadata": {},
   "outputs": [],
   "source": [
    "from sklearn.manifold import Isomap"
   ]
  },
  {
   "cell_type": "code",
   "execution_count": 214,
   "metadata": {},
   "outputs": [
    {
     "data": {
      "text/html": [
       "<div>\n",
       "<style scoped>\n",
       "    .dataframe tbody tr th:only-of-type {\n",
       "        vertical-align: middle;\n",
       "    }\n",
       "\n",
       "    .dataframe tbody tr th {\n",
       "        vertical-align: top;\n",
       "    }\n",
       "\n",
       "    .dataframe thead th {\n",
       "        text-align: right;\n",
       "    }\n",
       "</style>\n",
       "<table border=\"1\" class=\"dataframe\">\n",
       "  <thead>\n",
       "    <tr style=\"text-align: right;\">\n",
       "      <th></th>\n",
       "      <th>A</th>\n",
       "      <th>B</th>\n",
       "    </tr>\n",
       "  </thead>\n",
       "  <tbody>\n",
       "    <tr>\n",
       "      <th>0</th>\n",
       "      <td>0.406941</td>\n",
       "      <td>-1.221201</td>\n",
       "    </tr>\n",
       "    <tr>\n",
       "      <th>1</th>\n",
       "      <td>-0.467961</td>\n",
       "      <td>2.229176</td>\n",
       "    </tr>\n",
       "    <tr>\n",
       "      <th>2</th>\n",
       "      <td>1.487103</td>\n",
       "      <td>-0.443994</td>\n",
       "    </tr>\n",
       "    <tr>\n",
       "      <th>3</th>\n",
       "      <td>0.283066</td>\n",
       "      <td>0.634343</td>\n",
       "    </tr>\n",
       "    <tr>\n",
       "      <th>4</th>\n",
       "      <td>-1.400546</td>\n",
       "      <td>0.182405</td>\n",
       "    </tr>\n",
       "  </tbody>\n",
       "</table>\n",
       "</div>"
      ],
      "text/plain": [
       "          A         B\n",
       "0  0.406941 -1.221201\n",
       "1 -0.467961  2.229176\n",
       "2  1.487103 -0.443994\n",
       "3  0.283066  0.634343\n",
       "4 -1.400546  0.182405"
      ]
     },
     "execution_count": 214,
     "metadata": {},
     "output_type": "execute_result"
    }
   ],
   "source": [
    "df.iloc[:5,1:-3] #try[:,1:-3] for C1"
   ]
  },
  {
   "cell_type": "code",
   "execution_count": 215,
   "metadata": {},
   "outputs": [
    {
     "data": {
      "text/html": [
       "<div>\n",
       "<style scoped>\n",
       "    .dataframe tbody tr th:only-of-type {\n",
       "        vertical-align: middle;\n",
       "    }\n",
       "\n",
       "    .dataframe tbody tr th {\n",
       "        vertical-align: top;\n",
       "    }\n",
       "\n",
       "    .dataframe thead th {\n",
       "        text-align: right;\n",
       "    }\n",
       "</style>\n",
       "<table border=\"1\" class=\"dataframe\">\n",
       "  <thead>\n",
       "    <tr style=\"text-align: right;\">\n",
       "      <th></th>\n",
       "      <th>C1</th>\n",
       "      <th>C2</th>\n",
       "      <th>index</th>\n",
       "      <th>A</th>\n",
       "      <th>B</th>\n",
       "      <th>C</th>\n",
       "      <th>D</th>\n",
       "      <th>big</th>\n",
       "    </tr>\n",
       "  </thead>\n",
       "  <tbody>\n",
       "    <tr>\n",
       "      <th>0</th>\n",
       "      <td>-1.231954</td>\n",
       "      <td>-0.244846</td>\n",
       "      <td>2020-01-12</td>\n",
       "      <td>0.406941</td>\n",
       "      <td>-1.221201</td>\n",
       "      <td>-0.071997</td>\n",
       "      <td>-1.100212</td>\n",
       "      <td>0</td>\n",
       "    </tr>\n",
       "    <tr>\n",
       "      <th>1</th>\n",
       "      <td>2.087730</td>\n",
       "      <td>0.729022</td>\n",
       "      <td>2020-01-13</td>\n",
       "      <td>-0.467961</td>\n",
       "      <td>2.229176</td>\n",
       "      <td>-0.480912</td>\n",
       "      <td>-1.140054</td>\n",
       "      <td>0</td>\n",
       "    </tr>\n",
       "    <tr>\n",
       "      <th>2</th>\n",
       "      <td>-1.048739</td>\n",
       "      <td>1.118481</td>\n",
       "      <td>2020-01-14</td>\n",
       "      <td>1.487103</td>\n",
       "      <td>-0.443994</td>\n",
       "      <td>1.405901</td>\n",
       "      <td>0.290424</td>\n",
       "      <td>1</td>\n",
       "    </tr>\n",
       "    <tr>\n",
       "      <th>3</th>\n",
       "      <td>0.397012</td>\n",
       "      <td>0.743782</td>\n",
       "      <td>2020-01-15</td>\n",
       "      <td>0.283066</td>\n",
       "      <td>0.634343</td>\n",
       "      <td>-0.219961</td>\n",
       "      <td>-0.309138</td>\n",
       "      <td>0</td>\n",
       "    </tr>\n",
       "    <tr>\n",
       "      <th>4</th>\n",
       "      <td>1.044351</td>\n",
       "      <td>-1.146501</td>\n",
       "      <td>2020-01-16</td>\n",
       "      <td>-1.400546</td>\n",
       "      <td>0.182405</td>\n",
       "      <td>-0.451744</td>\n",
       "      <td>1.626180</td>\n",
       "      <td>0</td>\n",
       "    </tr>\n",
       "  </tbody>\n",
       "</table>\n",
       "</div>"
      ],
      "text/plain": [
       "         C1        C2      index         A         B         C         D  big\n",
       "0 -1.231954 -0.244846 2020-01-12  0.406941 -1.221201 -0.071997 -1.100212    0\n",
       "1  2.087730  0.729022 2020-01-13 -0.467961  2.229176 -0.480912 -1.140054    0\n",
       "2 -1.048739  1.118481 2020-01-14  1.487103 -0.443994  1.405901  0.290424    1\n",
       "3  0.397012  0.743782 2020-01-15  0.283066  0.634343 -0.219961 -0.309138    0\n",
       "4  1.044351 -1.146501 2020-01-16 -1.400546  0.182405 -0.451744  1.626180    0"
      ]
     },
     "execution_count": 215,
     "metadata": {},
     "output_type": "execute_result"
    }
   ],
   "source": [
    "iso = Isomap(n_neighbors=6, n_components=2)\n",
    "iso.fit(df.iloc[:,1:-3])#try [:,1:-3]\n",
    "manifold_2Da = iso.transform(df.iloc[:,1:-3]) #try [:,1:-3]\n",
    "manifold_2D = pd.DataFrame(manifold_2Da, columns=['C1', 'C2'])\n",
    "\n",
    "Iso_Df = pd.concat([manifold_2D, df], axis = 1)\n",
    "Iso_Df.head()"
   ]
  },
  {
   "cell_type": "code",
   "execution_count": 216,
   "metadata": {},
   "outputs": [
    {
     "data": {
      "text/plain": [
       "<matplotlib.collections.PathCollection at 0x7fae3f22b2b0>"
      ]
     },
     "execution_count": 216,
     "metadata": {},
     "output_type": "execute_result"
    },
    {
     "data": {
      "image/png": "[encoded data removed]",
      "text/plain": [
       "<Figure size 432x288 with 1 Axes>"
      ]
     },
     "metadata": {
      "needs_background": "light"
     },
     "output_type": "display_data"
    }
   ],
   "source": [
    "plt.scatter(Iso_Df['C1'], Iso_Df['C2'], c = Iso_Df['big'], s = 15)"
   ]
  },
  {
   "cell_type": "code",
   "execution_count": null,
   "metadata": {},
   "outputs": [],
   "source": []
  }
 ],
 "metadata": {
  "celltoolbar": "Raw Cell Format",
  "kernelspec": {
   "display_name": "sustain",
   "language": "python",
   "name": "sustain"
  },
  "language_info": {
   "codemirror_mode": {
    "name": "ipython",
    "version": 3
   },
   "file_extension": ".py",
   "mimetype": "text/x-python",
   "name": "python",
   "nbconvert_exporter": "python",
   "pygments_lexer": "ipython3",
   "version": "3.8.3"
  }
 },
 "nbformat": 4,
 "nbformat_minor": 4
}
